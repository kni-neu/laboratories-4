{
  "nbformat": 4,
  "nbformat_minor": 0,
  "metadata": {
    "colab": {
      "provenance": []
    },
    "kernelspec": {
      "name": "python3",
      "display_name": "Python 3"
    },
    "language_info": {
      "name": "python"
    }
  },
  "cells": [
    {
      "cell_type": "code",
      "execution_count": null,
      "metadata": {
        "colab": {
          "base_uri": "https://localhost:8080/"
        },
        "id": "XrEoGrdKVVRV",
        "outputId": "f1834a81-6823-4137-fcc0-36e2a5a7faad"
      },
      "outputs": [
        {
          "output_type": "stream",
          "name": "stdout",
          "text": [
            "--2023-01-20 04:00:53--  https://course.ccs.neu.edu/cs6220/homework-1/data/combined_data_1.txt\n",
            "Resolving course.ccs.neu.edu (course.ccs.neu.edu)... 129.10.117.35\n",
            "Connecting to course.ccs.neu.edu (course.ccs.neu.edu)|129.10.117.35|:443... connected.\n",
            "HTTP request sent, awaiting response... 200 OK\n",
            "Length: 495032008 (472M) [text/plain]\n",
            "Saving to: ‘combined_data_1.txt’\n",
            "\n",
            "combined_data_1.txt 100%[===================>] 472.10M  90.1MB/s    in 5.0s    \n",
            "\n",
            "2023-01-20 04:00:58 (93.9 MB/s) - ‘combined_data_1.txt’ saved [495032008/495032008]\n",
            "\n"
          ]
        }
      ],
      "source": [
        "!wget https://course.ccs.neu.edu/cs6220/homework-1/data/combined_data_1.txt"
      ]
    },
    {
      "cell_type": "markdown",
      "source": [
        "# The Average Star Rating for All Users\n",
        "\n",
        "\n"
      ],
      "metadata": {
        "id": "S-YF0YyvVe-y"
      }
    },
    {
      "cell_type": "code",
      "source": [
        "!pip install pyspark\n",
        "!pip install -U -q PyDrive\n",
        "!apt install openjdk-8-jdk-headless -qq\n",
        "import os\n",
        "os.environ[\"JAVA_HOME\"] = \"/usr/lib/jvm/java-8-openjdk-amd64\""
      ],
      "metadata": {
        "id": "E-psSn28WCnl"
      },
      "execution_count": null,
      "outputs": []
    },
    {
      "cell_type": "code",
      "source": [
        "from pyspark.sql import *\n",
        "from pyspark.sql.functions import *\n",
        "from pyspark import SparkContext\n",
        "import pandas as pd\n",
        "\n",
        "# create the Spark Session\n",
        "spark = SparkSession.builder.getOrCreate()\n",
        "\n",
        "# create the Spark Context\n",
        "sc = spark.sparkContext"
      ],
      "metadata": {
        "id": "0IU3DtG0WKid"
      },
      "execution_count": null,
      "outputs": []
    },
    {
      "cell_type": "markdown",
      "source": [
        "# Question\n",
        "\n",
        "Write a function that finds the average star rating over users. \n",
        "\n",
        "* Output: `(<USER>,<AVERAGE RATINGS>)`"
      ],
      "metadata": {
        "id": "dW5TxV1ANttD"
      }
    },
    {
      "cell_type": "code",
      "source": [
        "lines = sc.textFile(\"\", 1)"
      ],
      "metadata": {
        "id": "4C9jWF6FWhzU"
      },
      "execution_count": null,
      "outputs": []
    },
    {
      "cell_type": "markdown",
      "source": [
        "# Distribution of Users over Star Ratings\n",
        "\n",
        "Find the distribution of number of users over star ratings.\n",
        "\n",
        "* Output: `(<Number-Stars>, <TOTAL-NUMBER-USERS>)`\n"
      ],
      "metadata": {
        "id": "uJPl_xRkl0dx"
      }
    },
    {
      "cell_type": "code",
      "source": [],
      "metadata": {
        "id": "vESsxywvlzwj"
      },
      "execution_count": null,
      "outputs": []
    }
  ]
}